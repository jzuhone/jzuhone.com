{
 "metadata": {
  "name": ""
 },
 "nbformat": 3,
 "nbformat_minor": 0,
 "worksheets": [
  {
   "cells": [
    {
     "cell_type": "code",
     "collapsed": false,
     "input": [
      "from hw_problems import KeplersLaws"
     ],
     "language": "python",
     "metadata": {},
     "outputs": []
    },
    {
     "cell_type": "code",
     "collapsed": false,
     "input": [
      "hw = KeplersLaws()"
     ],
     "language": "python",
     "metadata": {},
     "outputs": []
    },
    {
     "cell_type": "heading",
     "level": 1,
     "metadata": {},
     "source": [
      "Problem 1"
     ]
    },
    {
     "cell_type": "markdown",
     "metadata": {},
     "source": [
      "Call `problem1` with one number, which is the eccentricity `e`.\n",
      "\n",
      "Example: `hw.problem1(e=0.2)`  "
     ]
    },
    {
     "cell_type": "markdown",
     "metadata": {},
     "source": [
      "a) Try several different values of `e` within the range of 0 to 1 but **not** equal to 1. What shape is the orbit in general? What is the shape if `e` = 0?"
     ]
    },
    {
     "cell_type": "code",
     "collapsed": false,
     "input": [],
     "language": "python",
     "metadata": {},
     "outputs": []
    },
    {
     "cell_type": "markdown",
     "metadata": {},
     "source": [
      "b) Try setting `e` = 1. What is the shape of the orbit in this case? Is the planet bound to the star?"
     ]
    },
    {
     "cell_type": "code",
     "collapsed": false,
     "input": [],
     "language": "python",
     "metadata": {},
     "outputs": []
    },
    {
     "cell_type": "markdown",
     "metadata": {},
     "source": [
      "c) Repeat (b) but with a value of `e` > 1. What is the shape? Is the planet bound?"
     ]
    },
    {
     "cell_type": "code",
     "collapsed": false,
     "input": [],
     "language": "python",
     "metadata": {},
     "outputs": []
    },
    {
     "cell_type": "heading",
     "level": 1,
     "metadata": {},
     "source": [
      "Problem 2"
     ]
    },
    {
     "cell_type": "markdown",
     "metadata": {},
     "source": [
      "Call `problem2` with five numbers, in this order:\n",
      "\n",
      "`e`: the eccentricity  \n",
      "`t1`: the first time marker  \n",
      "`t2`: the second time marker  \n",
      "`t3`: the third time marker  \n",
      "`t4`: the fourth time marker  \n",
      "\n",
      "Example: `hw.problem2(e=0.3, t1=0.1, t2=0.2, t3=0.7, t4=0.8)`"
     ]
    },
    {
     "cell_type": "markdown",
     "metadata": {},
     "source": [
      "a) Set `e` to a value between 0 and 1, choosing one of the values you used in Problem 1. Next, pick values for the time markers, such that: \n",
      "\n",
      "* they are all less than the time it takes to complete one orbit for the given `e`\n",
      "* `t2-t1` and `t4-t3` are equal.\n",
      "\n",
      "So, for example, you could choose `e` = 0.5, and `t1` = 0.1, `t2` = 0.2, `t3` = 0.7, and `t4` = 0.8, since `t2-t1` = `t4-t3` = 0.1.\n",
      "\n",
      "Try this exercise several times for different values of `e` and the time markers. Note the areas swept out by the planet in these time intervals. What can you say about them in general?"
     ]
    },
    {
     "cell_type": "code",
     "collapsed": false,
     "input": [],
     "language": "python",
     "metadata": {},
     "outputs": []
    },
    {
     "cell_type": "markdown",
     "metadata": {},
     "source": [
      "b) Now, try unequal time intervals. What changes?"
     ]
    },
    {
     "cell_type": "code",
     "collapsed": false,
     "input": [],
     "language": "python",
     "metadata": {},
     "outputs": []
    },
    {
     "cell_type": "markdown",
     "metadata": {},
     "source": [
      "c) Try (a) for a value of `e` greater than or equal to 1. Are the results same or different?"
     ]
    },
    {
     "cell_type": "code",
     "collapsed": false,
     "input": [],
     "language": "python",
     "metadata": {},
     "outputs": []
    },
    {
     "cell_type": "markdown",
     "metadata": {},
     "source": [
      "d) What physical principle does this illustrate?"
     ]
    },
    {
     "cell_type": "code",
     "collapsed": false,
     "input": [],
     "language": "python",
     "metadata": {},
     "outputs": []
    },
    {
     "cell_type": "heading",
     "level": 1,
     "metadata": {},
     "source": [
      "Problem 3"
     ]
    },
    {
     "cell_type": "markdown",
     "metadata": {},
     "source": [
      "Call `problem3` with just the eccentricity `e`.\n",
      "\n",
      "Example: `hw.problem3(e=0.5)`"
     ]
    },
    {
     "cell_type": "markdown",
     "metadata": {},
     "source": [
      "a) Try this for several different values of `e`. What is the relationship between the semi-major axis $a$ in AU and the orbital period $P$ in years? In other words, what is $x$ such that $P = a^x$?"
     ]
    },
    {
     "cell_type": "code",
     "collapsed": false,
     "input": [],
     "language": "python",
     "metadata": {},
     "outputs": []
    },
    {
     "cell_type": "markdown",
     "metadata": {},
     "source": [
      "b) Using the following values of the orbital periods for the eight planets, compute the value of the semi-major axis for each:\n",
      "\n",
      "| Planet     | Period (years) |\n",
      "|------------|----------------|\n",
      "| Mercury    | 0.24           |\n",
      "| Venus      | 0.62           |\n",
      "| Earth      | 1.0            |\n",
      "| Mars       | 1.88           |\n",
      "| Jupiter    | 11.86          |\n",
      "| Saturn     | 29.46          |\n",
      "| Uranus     | 84.01          |\n",
      "| Neptune    | 164.8          |"
     ]
    },
    {
     "cell_type": "code",
     "collapsed": false,
     "input": [],
     "language": "python",
     "metadata": {},
     "outputs": []
    }
   ],
   "metadata": {}
  }
 ]
}